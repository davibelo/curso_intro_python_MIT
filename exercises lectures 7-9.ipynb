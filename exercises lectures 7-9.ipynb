{
 "cells": [
  {
   "cell_type": "markdown",
   "metadata": {},
   "source": [
    "## Debbuing and using exceptions on code"
   ]
  },
  {
   "cell_type": "code",
   "execution_count": 24,
   "metadata": {},
   "outputs": [],
   "source": [
    "########################################\n",
    "### EXAMPLE: Buggy code to reverse a list\n",
    "### Try to debug it! (fixes needed are explained below)\n",
    "########################################\n",
    "##def rev_list_buggy(L):\n",
    "##    \"\"\"\n",
    "##    input: L, a list\n",
    "##    Modifies L such that its elements are in reverse order\n",
    "##    returns: nothing\n",
    "##    \"\"\"\n",
    "##    for i in range(len(L)):\n",
    "##        j = len(L) - i\n",
    "##        L[i] = temp\n",
    "##        L[i] = L[j]\n",
    "##        L[j] = L[i]\n",
    "#\n",
    "## FIXES: --------------------------\n",
    "## temp unknown\n",
    "## list index out of range -> sub 1 to j\n",
    "## get same list back -> iterate only over half\n",
    "## --------------------------"
   ]
  },
  {
   "cell_type": "code",
   "execution_count": 29,
   "metadata": {},
   "outputs": [
    {
     "name": "stdout",
     "output_type": "stream",
     "text": [
      "[8, 7, 6, 5, 4, 3, 2, 1]\n"
     ]
    }
   ],
   "source": [
    "def rev_list(L):\n",
    "    \"\"\"\n",
    "    input: L, a list\n",
    "    Modifies L such that its elements are in reverse order\n",
    "    returns: nothing\n",
    "    \"\"\"\n",
    "    \n",
    "    for i in range(len(L)//2):\n",
    "        j = len(L) - i - 1 #find the index of the element in the end\n",
    "        temp = L[i] #copy element in the beginning to temp variable\n",
    "        L[i] = L[j] #put j element in the beginning\n",
    "        L[j] = temp #put i element in the ending  \n",
    "        \n",
    "L = [1,2,3,4,5,6,7,8]\n",
    "rev_list(L)\n",
    "print(L)"
   ]
  },
  {
   "cell_type": "code",
   "execution_count": 30,
   "metadata": {},
   "outputs": [
    {
     "name": "stdout",
     "output_type": "stream",
     "text": [
      "Tell me one number: davi\n",
      "Bug in user input.\n"
     ]
    }
   ],
   "source": [
    "######################################\n",
    "# EXAMPLE: Exceptions and input\n",
    "######################################\n",
    "#a = int(input(\"Tell me one number: \"))\n",
    "#b = int(input(\"Tell me another number: \"))\n",
    "#print(\"a/b = \", a/b)\n",
    "#print(\"a+b = \", a+b)\n",
    "\n",
    "try:\n",
    "    a = int(input(\"Tell me one number: \"))\n",
    "    b = int(input(\"Tell me another number: \"))\n",
    "    print(\"a/b = \", a/b)\n",
    "except:\n",
    "    print(\"Bug in user input.\")"
   ]
  },
  {
   "cell_type": "code",
   "execution_count": 33,
   "metadata": {},
   "outputs": [
    {
     "name": "stdout",
     "output_type": "stream",
     "text": [
      "Tell me one number: 12\n",
      "Tell me another number: 0\n",
      "Can't divide by zero\n"
     ]
    }
   ],
   "source": [
    "try:\n",
    "    a = int(input(\"Tell me one number: \"))\n",
    "    b = int(input(\"Tell me another number: \"))\n",
    "    print(\"a/b = \", a/b)\n",
    "    print(\"a+b = \", a+b)\n",
    "except ValueError:\n",
    "    print(\"Could not convert to a number.\")\n",
    "except ZeroDivisionError:\n",
    "    print(\"Can't divide by zero\")\n",
    "except:\n",
    "    print(\"Something went very wrong.\")"
   ]
  },
  {
   "cell_type": "code",
   "execution_count": 43,
   "metadata": {},
   "outputs": [
    {
     "name": "stdout",
     "output_type": "stream",
     "text": [
      "success\n",
      "executed no matter what!\n",
      "success\n",
      "executed no matter what!\n",
      "[0.5, 1.0]\n"
     ]
    }
   ],
   "source": [
    "#####################################\n",
    "# EXAMPLE: Raising your own exceptions\n",
    "######################################\n",
    "def get_ratios(L1, L2):\n",
    "    \"\"\" Assumes: L1 and L2 are lists of equal length of numbers\n",
    "        Returns: a list containing L1[i]/L2[i] \"\"\"\n",
    "    ratios = []\n",
    "    for index in range(len(L1)):\n",
    "        try:\n",
    "            ratios.append(L1[index]/L2[index])\n",
    "        except ZeroDivisionError:\n",
    "            ratios.append(float('nan')) #nan = Not a Number\n",
    "        except:\n",
    "            raise ValueError('get_ratios called with bad arg')\n",
    "            #use raise to make your own error\n",
    "        else:\n",
    "            print(\"success\")\n",
    "        finally: #part that executes anyway\n",
    "            print(\"executed no matter what!\")\n",
    "    return ratios\n",
    "    \n",
    "print(get_ratios([1, 4], [2, 4]))"
   ]
  },
  {
   "cell_type": "code",
   "execution_count": 92,
   "metadata": {},
   "outputs": [
    {
     "name": "stdout",
     "output_type": "stream",
     "text": [
      "Warning: no grades data\n",
      "\n",
      "[[['peter', 'parker'], [80.0, 70.0, 85.0], 78.33333333333333], [['bruce', 'wayne'], [100.0, 80.0, 74.0], 84.66666666666667], [['captain', 'america'], [80.0, 70.0, 96.0], 82.0], [['deadpool'], [], 0.0]]\n"
     ]
    }
   ],
   "source": [
    "#######################################\n",
    "## EXAMPLE: Exceptions and lists\n",
    "#######################################\n",
    "def get_stats(class_list):\n",
    "    new_stats = []\n",
    "    for person in class_list:\n",
    "        new_stats.append([person[0], person[1], avg(person[1])])\n",
    "    return new_stats \n",
    "\n",
    "#avg function: version without an exception\n",
    "#def avg(grades):\n",
    "#return (sum(grades))/len(grades)\n",
    "    \n",
    "#avg function: version with an exception\n",
    "def avg(grades):\n",
    "    try:\n",
    "        return sum(grades)/len(grades)\n",
    "    except ZeroDivisionError:\n",
    "        print('Warning: no grades data\\n')\n",
    "        return 0.0 #return can be used on exceptions!\n",
    "\n",
    "test_grades = [[['peter', 'parker'], [80.0, 70.0, 85.0]], \n",
    "              [['bruce', 'wayne'], [100.0, 80.0, 74.0]],\n",
    "              [['captain', 'america'], [80.0, 70.0, 96.0]],\n",
    "              [['deadpool'], []]]\n",
    "\n",
    "print(get_stats(test_grades))"
   ]
  },
  {
   "cell_type": "code",
   "execution_count": 95,
   "metadata": {},
   "outputs": [
    {
     "data": {
      "text/plain": [
       "[[['peter', 'parker'], [80.0, 70.0, 85.0], 78.33333333333333],\n",
       " [['bruce', 'wayne'], [100.0, 80.0, 74.0], 84.66666666666667],\n",
       " [['captain', 'america'], [80.0, 70.0, 96.0], 82.0]]"
      ]
     },
     "execution_count": 95,
     "metadata": {},
     "output_type": "execute_result"
    }
   ],
   "source": [
    "# avg function: version with assert\n",
    "# the program only continue if the assert condition is true\n",
    "\n",
    "def avg(grades):\n",
    "    assert len(grades) != 0, 'warning: no grades data'\n",
    "    return sum(grades)/len(grades)    \n",
    "    \n",
    "test_grades = [[['peter', 'parker'], [80.0, 70.0, 85.0]], \n",
    "              [['bruce', 'wayne'], [100.0, 80.0, 74.0]],\n",
    "              [['captain', 'america'], [80.0, 70.0, 96.0]]              ]\n",
    "\n",
    "get_stats(test_grades)"
   ]
  },
  {
   "cell_type": "markdown",
   "metadata": {},
   "source": [
    "## Classes - Object Oriented Programming"
   ]
  },
  {
   "cell_type": "code",
   "execution_count": 109,
   "metadata": {},
   "outputs": [
    {
     "name": "stdout",
     "output_type": "stream",
     "text": [
      "3 4 0 0\n",
      "5.0\n",
      "5.0\n",
      "5.0\n",
      "coordinate point <3,4>\n"
     ]
    }
   ],
   "source": [
    "#################\n",
    "## EXAMPLE: simple Coordinate class\n",
    "#################\n",
    "# methods with __ are special methods that relates with basic python functions\n",
    "class Coordinate(object):\n",
    "    \"\"\" A coordinate made up of an x and y value \"\"\"\n",
    "    # init method define basic attributes of the object\n",
    "    def __init__(self, x, y):\n",
    "        \"\"\" Sets the x and y values \"\"\"\n",
    "        self.x = x\n",
    "        self.y = y\n",
    "    def __str__(self): #define whats returns when use commands like print or str\n",
    "        \"\"\" Returns a string representation of self \"\"\"\n",
    "        return \"coordinate point <\" + str(self.x) + \",\" + str(self.y) + \">\"\n",
    "    def distance(self, other):\n",
    "        \"\"\" Returns the euclidean distance between two points \"\"\"\n",
    "        x_diff_sq = (self.x-other.x)**2\n",
    "        y_diff_sq = (self.y-other.y)**2\n",
    "        return (x_diff_sq + y_diff_sq)**0.5\n",
    "\n",
    "#assign coordinate objects\n",
    "c = Coordinate(3,4)\n",
    "origin = Coordinate(0,0)\n",
    "\n",
    "#print basic attributes\n",
    "print(c.x, c.y, origin.x, origin.y)\n",
    "\n",
    "#using distance method of coordinate object\n",
    "print(c.distance(origin))\n",
    "print(Coordinate.distance(c, origin)) #other way to use the method\n",
    "print(origin.distance(c))\n",
    "\n",
    "#print object as it is defined on __str__ method\n",
    "print(c)"
   ]
  },
  {
   "cell_type": "code",
   "execution_count": 116,
   "metadata": {},
   "outputs": [
    {
     "name": "stdout",
     "output_type": "stream",
     "text": [
      "12/16\n",
      "0.75\n",
      "0.75\n",
      "2.0\n"
     ]
    },
    {
     "data": {
      "text/plain": [
       "__main__.Fraction"
      ]
     },
     "execution_count": 116,
     "metadata": {},
     "output_type": "execute_result"
    }
   ],
   "source": [
    "#################\n",
    "## EXAMPLE: simple class to represent fractions\n",
    "## Try adding more built-in operations like multiply, divide\n",
    "### Try adding a reduce method to reduce the fraction (use gcd)\n",
    "#################\n",
    "class Fraction(object):\n",
    "    \"\"\"\n",
    "    A number represented as a fraction\n",
    "    \"\"\"\n",
    "    def __init__(self, num, denom):\n",
    "        \"\"\" num and denom are integers \"\"\"\n",
    "        assert type(num) == int and type(denom) == int, \"ints not used\"\n",
    "        self.num = num\n",
    "        self.denom = denom\n",
    "    def __str__(self):\n",
    "        \"\"\" Returns a string representation of self \"\"\"\n",
    "        return str(self.num) + \"/\" + str(self.denom)\n",
    "    def __add__(self, other): #define return when use operation with \"+\" signal and object\n",
    "        \"\"\" Returns a new fraction representing the addition \"\"\"\n",
    "        top = self.num*other.denom + self.denom*other.num\n",
    "        bott = self.denom*other.denom\n",
    "        return Fraction(top, bott)\n",
    "    def __sub__(self, other): #define return when use operation with \"-\" signal and object\n",
    "        \"\"\" Returns a new fraction representing the subtraction \"\"\"\n",
    "        top = self.num*other.denom - self.denom*other.num\n",
    "        bott = self.denom*other.denom\n",
    "        return Fraction(top, bott)\n",
    "    def __float__(self): #define what returns when command float is used on object\n",
    "        \"\"\" Returns a float value of the fraction \"\"\"\n",
    "        return self.num/self.denom\n",
    "    def inverse(self):\n",
    "        \"\"\" Returns a new fraction representing 1/self \"\"\"\n",
    "        return Fraction(self.denom, self.num)\n",
    "\n",
    "a = Fraction(1,4)\n",
    "b = Fraction(2,4)\n",
    "c = a + b # c is a Fraction object\n",
    "print(c)\n",
    "print(float(c))\n",
    "print(Fraction.__float__(c))\n",
    "print(float(b.inverse()))\n",
    "##c = Fraction(3.14, 2.7) # assertion error\n",
    "##print a*b # error, did not define how to multiply two Fraction objects\n",
    "type(c)"
   ]
  },
  {
   "cell_type": "markdown",
   "metadata": {},
   "source": [
    "## Inheritance"
   ]
  },
  {
   "cell_type": "code",
   "execution_count": 142,
   "metadata": {},
   "outputs": [
    {
     "name": "stdout",
     "output_type": "stream",
     "text": [
      "\n",
      "---- animal tests ----\n",
      "animal. name: None, age: 4\n",
      "4\n",
      "animal. name: fluffy, age: 3.5\n",
      "animal. name: , age: 3.5\n"
     ]
    }
   ],
   "source": [
    "import random\n",
    "\n",
    "#################################\n",
    "## Animal abstract data type   ##\n",
    "#################################\n",
    "class Animal(object):\n",
    "    def __init__(self, age):\n",
    "        self.age = age\n",
    "        self.name = None\n",
    "    #methods to get attributes    \n",
    "    def get_age(self):\n",
    "        return self.age\n",
    "    def get_name(self):\n",
    "        return self.name\n",
    "    #methods to set attributes\n",
    "    def set_age(self, newage):\n",
    "        self.age = newage\n",
    "    def set_name(self, newname=\"\"): #this way you set a default parameter.\n",
    "        self.name = newname         #if no parameter is given, it gets default value\n",
    "    def __str__(self):\n",
    "        return \"animal. name: \"+str(self.name)+\", age: \"+str(self.age)\n",
    "        \n",
    "print(\"\\n---- animal tests ----\")\n",
    "a = Animal(4)\n",
    "print(a)\n",
    "print(a.get_age())\n",
    "a.set_name(\"fluffy\")\n",
    "a.set_age(3.5)\n",
    "print(a)\n",
    "a.set_name() #no arguments given, it gets default value\n",
    "print(a)"
   ]
  },
  {
   "cell_type": "code",
   "execution_count": 136,
   "metadata": {},
   "outputs": [
    {
     "name": "stdout",
     "output_type": "stream",
     "text": [
      "\n",
      "---- cat tests ----\n",
      "5\n",
      "cat. name: fluffy, age: 5\n",
      "cat says meow\n"
     ]
    }
   ],
   "source": [
    "##########################\n",
    "## Inheritance example  ##  \n",
    "##########################\n",
    "class Cat(Animal):\n",
    "    def speak(self):\n",
    "        print(\"cat says meow\")\n",
    "    def __str__(self):\n",
    "        return \"cat. name: \"+str(self.name)+\", age: \"+str(self.age)\n",
    "    \n",
    "print(\"\\n---- cat tests ----\")\n",
    "c = Cat(5)\n",
    "c.set_name(\"fluffy\")\n",
    "print(c.get_age())\n",
    "print(c)\n",
    "c.speak()\n",
    "#a.speak() # error because there is no speak method for Animal class"
   ]
  },
  {
   "cell_type": "code",
   "execution_count": 171,
   "metadata": {},
   "outputs": [
    {
     "name": "stdout",
     "output_type": "stream",
     "text": [
      "\n",
      "---- person tests ----\n",
      "jack\n",
      "30\n",
      "jill\n",
      "25\n",
      "person:jack:30\n",
      "hello\n",
      "5 year difference\n"
     ]
    }
   ],
   "source": [
    "#################################\n",
    "## Inheritance example\n",
    "#################################\n",
    "class Person(Animal):\n",
    "    def __init__(self, name, age):\n",
    "        Animal.__init__(self, age) #adding same attributes of parent object\n",
    "        self.set_name(name)        #adding these attributes to this class\n",
    "        self.friends = []\n",
    "    def __str__(self):\n",
    "        return \"person:\"+str(self.name)+\":\"+str(self.age)\n",
    "    def get_friends(self):\n",
    "        return print(self.friends)\n",
    "    def speak(self):\n",
    "        print(\"hello\")\n",
    "    def add_friend(self, fname):\n",
    "        if fname not in self.friends:\n",
    "            self.friends.append(fname)\n",
    "    def age_diff(self, other):\n",
    "        diff = self.age - other.age\n",
    "        print(abs(diff), \"year difference\")\n",
    "    \n",
    "\n",
    "print(\"\\n---- person tests ----\")\n",
    "p1 = Person(\"jack\", 30)\n",
    "p2 = Person(\"jill\", 25)\n",
    "print(p1.get_name())\n",
    "print(p1.get_age())\n",
    "print(p2.get_name())\n",
    "print(p2.get_age())\n",
    "print(p1)\n",
    "p1.speak()\n",
    "p1.age_diff(p2)"
   ]
  },
  {
   "cell_type": "code",
   "execution_count": 174,
   "metadata": {},
   "outputs": [
    {
     "name": "stdout",
     "output_type": "stream",
     "text": [
      "\n",
      "---- student tests ----\n",
      "Student. Name: Alice, Age : 20, Major: Computer Science\n",
      "Student. Name: Beth, Age : 18, Major: None\n",
      "Alice says: I need sleep\n",
      "Beth says: I need sleep\n",
      "['John']\n",
      "['John', 'Maria']\n"
     ]
    }
   ],
   "source": [
    "#################################\n",
    "## Inheritance example\n",
    "#################################\n",
    "# if a child object don't have __xxx__ methods, it uses parent __xxx__ methods\n",
    "\n",
    "class Student(Person):\n",
    "    def __init__(self, name, age, major=None):\n",
    "        Person.__init__(self, name, age) #adding same attributes of parents objects\n",
    "        self.major = major               #adding attribute over Animal, Person attributes\n",
    "    def __str__(self):\n",
    "        return \"Student. Name: \"+str(self.name)+\", Age : \"+str(self.age)+\", Major: \"+str(self.major)\n",
    "    def change_major(self, major):\n",
    "        self.major = major\n",
    "    def speak(self):\n",
    "        r = random.random()\n",
    "        if r < 0.25:\n",
    "            print(\"I have homework\")\n",
    "        elif 0.25 <= r < 0.5:\n",
    "            print(\"I need sleep\")\n",
    "        elif 0.5 <= r < 0.75:\n",
    "            print(\"I should eat\")\n",
    "        else:\n",
    "            print(\"I am watching tv\")\n",
    "\n",
    "print(\"\\n---- student tests ----\")\n",
    "s1 = Student('Alice', 20, \"Computer Science\")\n",
    "s2 = Student('Beth', 18)\n",
    "print(s1)\n",
    "print(s2)\n",
    "print(s1.get_name(),\"says:\", end=\" \")\n",
    "s1.speak()\n",
    "print(s2.get_name(),\"says:\", end=\" \")\n",
    "s2.speak()\n",
    "s1.add_friend(\"John\")\n",
    "s1.get_friends()\n",
    "s1.add_friend(\"Maria\")\n",
    "s1.get_friends()"
   ]
  },
  {
   "cell_type": "markdown",
   "metadata": {},
   "source": [
    "Idea of class variable"
   ]
  },
  {
   "cell_type": "code",
   "execution_count": 178,
   "metadata": {},
   "outputs": [
    {
     "name": "stdout",
     "output_type": "stream",
     "text": [
      "\n",
      "---- rabbit tests ----\n",
      "---- testing creating rabbits ----\n",
      "r1: rabbit:001\n",
      "r2: rabbit:002\n",
      "r3: rabbit:003\n",
      "r1 parent1: None\n",
      "r1 parent2: None\n",
      "---- testing rabbit addition ----\n",
      "r1: rabbit:001\n",
      "r2: rabbit:002\n",
      "r4: rabbit:004\n",
      "r4 parent1: rabbit:001\n",
      "r4 parent2: rabbit:002\n",
      "---- testing rabbit equality ----\n",
      "r3: rabbit:003\n",
      "r4: rabbit:004\n",
      "r5: rabbit:005\n",
      "r6: rabbit:006\n",
      "r5 parent1: rabbit:003\n",
      "r5 parent2: rabbit:004\n",
      "r6 parent1: rabbit:004\n",
      "r6 parent2: rabbit:003\n",
      "r5 and r6 have same parents? True\n",
      "r4 and r6 have same parents? False\n"
     ]
    }
   ],
   "source": [
    "#################################\n",
    "## Use of class variables  \n",
    "#################################\n",
    "class Rabbit(Animal):\n",
    "    # a class variable, tag, shared across all instances\n",
    "    tag = 1\n",
    "    def __init__(self, age, parent1=None, parent2=None):\n",
    "        Animal.__init__(self, age)\n",
    "        self.parent1 = parent1\n",
    "        self.parent2 = parent2\n",
    "        self.rid = Rabbit.tag\n",
    "        Rabbit.tag += 1\n",
    "    def get_rid(self):\n",
    "        # zfill used to add leading zeroes 001 instead of 1\n",
    "        return str(self.rid).zfill(3)\n",
    "    def get_parent1(self):\n",
    "        return self.parent1\n",
    "    def get_parent2(self):\n",
    "        return self.parent2\n",
    "    def __add__(self, other):\n",
    "        # returning object of same type as this class\n",
    "        return Rabbit(0, self, other) #self and other are the parents of created Rabbit\n",
    "    def __eq__(self, other):\n",
    "        # compare the ids of self and other's parents\n",
    "        # don't care about the order of the parents\n",
    "        # the backslash tells python I want to break up my line\n",
    "        parents_same = self.parent1.rid == other.parent1.rid \\\n",
    "                       and self.parent2.rid == other.parent2.rid\n",
    "        parents_opposite = self.parent2.rid == other.parent1.rid \\\n",
    "                           and self.parent1.rid == other.parent2.rid\n",
    "        return parents_same or parents_opposite\n",
    "    def __str__(self):\n",
    "        return \"rabbit:\"+ self.get_rid()\n",
    "\n",
    "print(\"\\n---- rabbit tests ----\")\n",
    "print(\"---- testing creating rabbits ----\")\n",
    "r1 = Rabbit(3)\n",
    "r2 = Rabbit(4)\n",
    "r3 = Rabbit(5)\n",
    "print(\"r1:\", r1)\n",
    "print(\"r2:\", r2)\n",
    "print(\"r3:\", r3)\n",
    "print(\"r1 parent1:\", r1.get_parent1())\n",
    "print(\"r1 parent2:\", r1.get_parent2())\n",
    "\n",
    "print(\"---- testing rabbit addition ----\")\n",
    "r4 = r1+r2   # r1.__add__(r2)\n",
    "print(\"r1:\", r1)\n",
    "print(\"r2:\", r2)\n",
    "print(\"r4:\", r4)\n",
    "print(\"r4 parent1:\", r4.get_parent1())\n",
    "print(\"r4 parent2:\", r4.get_parent2())\n",
    "\n",
    "print(\"---- testing rabbit equality ----\")\n",
    "r5 = r3+r4\n",
    "r6 = r4+r3\n",
    "print(\"r3:\", r3)\n",
    "print(\"r4:\", r4)\n",
    "print(\"r5:\", r5)\n",
    "print(\"r6:\", r6)\n",
    "print(\"r5 parent1:\", r5.get_parent1())\n",
    "print(\"r5 parent2:\", r5.get_parent2())\n",
    "print(\"r6 parent1:\", r6.get_parent1())\n",
    "print(\"r6 parent2:\", r6.get_parent2())\n",
    "print(\"r5 and r6 have same parents?\", r5 == r6)\n",
    "print(\"r4 and r6 have same parents?\", r4 == r6)\n"
   ]
  }
 ],
 "metadata": {
  "kernelspec": {
   "display_name": "Python 3",
   "language": "python",
   "name": "python3"
  },
  "language_info": {
   "codemirror_mode": {
    "name": "ipython",
    "version": 3
   },
   "file_extension": ".py",
   "mimetype": "text/x-python",
   "name": "python",
   "nbconvert_exporter": "python",
   "pygments_lexer": "ipython3",
   "version": "3.7.5"
  }
 },
 "nbformat": 4,
 "nbformat_minor": 2
}
