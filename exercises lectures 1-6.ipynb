{
 "cells": [
  {
   "cell_type": "markdown",
   "metadata": {},
   "source": [
    "## Basic Types - strings"
   ]
  },
  {
   "cell_type": "code",
   "execution_count": 52,
   "metadata": {
    "scrolled": true
   },
   "outputs": [
    {
     "data": {
      "text/plain": [
       "'FacsoDv eoRdius'"
      ]
     },
     "execution_count": 52,
     "metadata": {},
     "output_type": "execute_result"
    }
   ],
   "source": [
    "string = \"Francisco Davi Belo Rodrigues\"\n",
    "string[::2]"
   ]
  },
  {
   "cell_type": "code",
   "execution_count": 2,
   "metadata": {},
   "outputs": [
    {
     "data": {
      "text/plain": [
       "'davibelo'"
      ]
     },
     "execution_count": 2,
     "metadata": {},
     "output_type": "execute_result"
    }
   ],
   "source": [
    "s1 = \"davi\"\n",
    "s1 = s1 + \"belo\"\n",
    "s1"
   ]
  },
  {
   "cell_type": "code",
   "execution_count": 3,
   "metadata": {},
   "outputs": [
    {
     "data": {
      "text/plain": [
       "'d'"
      ]
     },
     "execution_count": 3,
     "metadata": {},
     "output_type": "execute_result"
    }
   ],
   "source": [
    "s1[0]"
   ]
  },
  {
   "cell_type": "code",
   "execution_count": 4,
   "metadata": {},
   "outputs": [],
   "source": [
    "#s1[0] = \"F\" #string does not support assignment!"
   ]
  },
  {
   "cell_type": "code",
   "execution_count": 5,
   "metadata": {},
   "outputs": [
    {
     "data": {
      "text/plain": [
       "'Favibelo'"
      ]
     },
     "execution_count": 5,
     "metadata": {},
     "output_type": "execute_result"
    }
   ],
   "source": [
    "s1 = \"F\" + s1[1:len(s1)]\n",
    "s1"
   ]
  },
  {
   "cell_type": "markdown",
   "metadata": {},
   "source": [
    "## Loops - for, if, break"
   ]
  },
  {
   "cell_type": "code",
   "execution_count": 6,
   "metadata": {},
   "outputs": [
    {
     "name": "stdout",
     "output_type": "stream",
     "text": [
      "There is an i or u\n"
     ]
    }
   ],
   "source": [
    "s = \"davi belo\"\n",
    "for index in range(len(s)):\n",
    "    if s[index] == 'i' or s[index] == 'u':\n",
    "        print(\"There is an i or u\")\n"
   ]
  },
  {
   "cell_type": "code",
   "execution_count": 7,
   "metadata": {},
   "outputs": [
    {
     "name": "stdout",
     "output_type": "stream",
     "text": [
      "There is an i or u\n",
      "There is an i or u\n"
     ]
    }
   ],
   "source": [
    "s = \"rodrigues\"\n",
    "for char in s:\n",
    "    if char == 'i' or char == 'u':\n",
    "        print(\"There is an i or u\")"
   ]
  },
  {
   "cell_type": "code",
   "execution_count": 8,
   "metadata": {},
   "outputs": [
    {
     "name": "stdout",
     "output_type": "stream",
     "text": [
      "Antes de entrar no laço\n",
      "0\n",
      "1\n",
      "2\n",
      "3\n",
      "4\n",
      "5\n",
      "6\n",
      "7\n",
      "8\n",
      "9\n",
      "10\n",
      "A condição estabelecida retornou true\n",
      "Depois de ter entrado no laço\n"
     ]
    }
   ],
   "source": [
    "print(\"Antes de entrar no laço\")\n",
    "for item in range(100):\n",
    "    print(item)\n",
    "    if(item==10):\n",
    "        print(\"A condição estabelecida retornou true\")\n",
    "        break\n",
    "print(\"Depois de ter entrado no laço\")"
   ]
  },
  {
   "cell_type": "markdown",
   "metadata": {},
   "source": [
    "## Loops - while, elif, else"
   ]
  },
  {
   "cell_type": "code",
   "execution_count": 9,
   "metadata": {},
   "outputs": [
    {
     "name": "stdout",
     "output_type": "stream",
     "text": [
      "You are in the Lost Forest \n",
      " Go left or right? left\n",
      "\n",
      "You got out of the Lost Forest!\n",
      "\\o/\n"
     ]
    }
   ],
   "source": [
    "n = input(\"You are in the Lost Forest \\n Go left or right? \")\n",
    "i = 1\n",
    "while n == \"right\" or n == \"Right\":\n",
    "    n = input(\"You are in the Lost Forest\\n Go left or right? \")\n",
    "    i += 1\n",
    "    if i == 2:\n",
    "        print(\"\\n:(\")\n",
    "    elif i == 5:\n",
    "        print(\"\\n(╯°□°）╯︵ ┻━┻\")\n",
    "    \n",
    "print(\"\\nYou got out of the Lost Forest!\\n\\o/\")"
   ]
  },
  {
   "cell_type": "code",
   "execution_count": 10,
   "metadata": {
    "scrolled": false
   },
   "outputs": [
    {
     "name": "stdout",
     "output_type": "stream",
     "text": [
      "I will cheer for you! Enter a word: davi\n",
      "Enthusiasm level (1-10): 1\n",
      "Give me a  d! d\n",
      "Give me an a! a\n",
      "Give me a  v! v\n",
      "Give me an i! i\n",
      "What does that spell?\n",
      "davi !!!\n"
     ]
    }
   ],
   "source": [
    "an_letters = \"aefhilmnorsxAEFHILMNORSX\"\n",
    "word = input(\"I will cheer for you! Enter a word: \")\n",
    "times = int(input(\"Enthusiasm level (1-10): \"))\n",
    "\n",
    "i = 0\n",
    "while i < len(word):\n",
    "    char = word[i]\n",
    "    if char in an_letters:\n",
    "        print(\"Give me an \" + char + \"! \" + char)\n",
    "    else:\n",
    "        print(\"Give me a  \" + char + \"! \" + char)\n",
    "    i += 1\n",
    "print(\"What does that spell?\")\n",
    "for i in range(times):\n",
    "    print(word, \"!!!\")"
   ]
  },
  {
   "cell_type": "code",
   "execution_count": 11,
   "metadata": {},
   "outputs": [
    {
     "name": "stdout",
     "output_type": "stream",
     "text": [
      "I will cheer for you! Enter a word: lara\n",
      "Enthusiasm level (1-10): 1\n",
      "Give me an l! l\n",
      "Give me an a! a\n",
      "Give me an r! r\n",
      "Give me an a! a\n",
      "What does that spell?\n",
      "lara !!!\n"
     ]
    }
   ],
   "source": [
    "an_letters = \"aefhilmnorsxAEFHILMNORSX\"\n",
    "word = input(\"I will cheer for you! Enter a word: \")\n",
    "times = int(input(\"Enthusiasm level (1-10): \"))\n",
    "\n",
    "i = 0\n",
    "for i in range(len(word)):\n",
    "    char = word[i]\n",
    "    if char in an_letters:\n",
    "        print(\"Give me an \" + char + \"! \" + char)\n",
    "    else:\n",
    "        print(\"Give me a  \" + char + \"! \" + char)\n",
    "    i += 1\n",
    "print(\"What does that spell?\")\n",
    "for i in range(times):\n",
    "    print(word, \"!!!\")"
   ]
  },
  {
   "cell_type": "markdown",
   "metadata": {},
   "source": [
    "## Algorithms"
   ]
  },
  {
   "cell_type": "code",
   "execution_count": 12,
   "metadata": {},
   "outputs": [
    {
     "name": "stdout",
     "output_type": "stream",
     "text": [
      "Cube root of 8120601 is 201\n"
     ]
    }
   ],
   "source": [
    "#GUESS AND CHECK ALGORITHM\n",
    "\n",
    "#cube = -1000\n",
    "#cube = 1000\n",
    "cube = 8120601\n",
    "for guess in range(abs(cube)+1):\n",
    "    # passed all potential cube roots\n",
    "    if guess**3 >= abs(cube):\n",
    "        #no need to keep searching\n",
    "        break \n",
    "if guess**3 != abs(cube):\n",
    "    print(cube, 'is not a perfect cube')\n",
    "else:\n",
    "    if cube < 0:\n",
    "        guess = -guess\n",
    "    print('Cube root of ' + str(cube) + ' is ' + str(guess))"
   ]
  },
  {
   "cell_type": "code",
   "execution_count": 13,
   "metadata": {},
   "outputs": [
    {
     "name": "stdout",
     "output_type": "stream",
     "text": [
      "num_guesses = 2010\n",
      "200.99999999999287 is close to the cube root of 8120601\n",
      "201.0 is the rounded closest cube root of 8120601\n"
     ]
    }
   ],
   "source": [
    "#APROXIMATE ALGORITHM\n",
    "\n",
    "#cube = 27\n",
    "cube = 8120601\n",
    "#cube = 1000\n",
    "#cube = 9284592\n",
    "\n",
    "epsilon = 0.1   #tolerancia\n",
    "guess = 0.0     #chute inicial\n",
    "increment = 0.1 #incremento no chute\n",
    "num_guesses = 0 #numero de chutes\n",
    "\n",
    "# look for close enough answer and make sure\n",
    "# didn't accidentally skip the close enough bound\n",
    "\n",
    "while abs(guess**3 - cube) >= epsilon and guess <= cube:\n",
    "    guess += increment\n",
    "    num_guesses += 1\n",
    "print('num_guesses =', num_guesses)\n",
    "if abs(guess**3 - cube) >= epsilon:\n",
    "    print('Failed on cube root of', cube, \"with these parameters.\")\n",
    "else:\n",
    "    print(guess, 'is close to the cube root of', cube)\n",
    "    print(round(guess,1), 'is the rounded closest cube root of', cube)"
   ]
  },
  {
   "cell_type": "code",
   "execution_count": 14,
   "metadata": {},
   "outputs": [
    {
     "name": "stdout",
     "output_type": "stream",
     "text": [
      "num_guesses = 44\n",
      "201.00000004062346 is close to the cube root of 8120601\n"
     ]
    }
   ],
   "source": [
    "#BISECTION ALGORITHM\n",
    "\n",
    "#cube = 27\n",
    "cube = 8120601\n",
    "# won't work with x < 1 because initial upper bound is less than ans\n",
    "#cube = 0.25\n",
    "epsilon = 0.01\n",
    "num_guesses = 0\n",
    "low = 0\n",
    "high = cube\n",
    "guess = (high + low)/2.0\n",
    "while abs(guess**3 - cube) >= epsilon:\n",
    "    if guess**3 < cube:\n",
    "        # look only in upper half search space\n",
    "        low = guess\n",
    "    else:\n",
    "        # look only in lower half search space\n",
    "        high = guess\n",
    "    # next guess is halfway in search space\n",
    "    guess = (high + low)/2.0\n",
    "    num_guesses += 1\n",
    "print('num_guesses =', num_guesses)\n",
    "print(guess, 'is close to the cube root of', cube)"
   ]
  },
  {
   "cell_type": "markdown",
   "metadata": {},
   "source": [
    "## Abstraction - using functions"
   ]
  },
  {
   "cell_type": "code",
   "execution_count": 15,
   "metadata": {},
   "outputs": [
    {
     "name": "stdout",
     "output_type": "stream",
     "text": [
      "Help on function cube_root in module __main__:\n",
      "\n",
      "cube_root(cube)\n",
      "    Extract cube root of a number, with 5 decimals\n",
      "\n"
     ]
    },
    {
     "data": {
      "text/plain": [
       "351.28143"
      ]
     },
     "execution_count": 15,
     "metadata": {},
     "output_type": "execute_result"
    }
   ],
   "source": [
    "#abstraction: you can use the function without knowing what is inside,\n",
    "# but only how it works\n",
    "\n",
    "#decompostion: how you can solve a big problem using small parts of\n",
    "#code together\n",
    "\n",
    "def cube_root(cube):\n",
    "    \"\"\" Extract cube root of a number, with 5 decimals \"\"\"\n",
    "    epsilon = 0.00001\n",
    "    num_guesses = 0\n",
    "    low = 0\n",
    "    high = cube\n",
    "    guess = (high + low)/2.0\n",
    "    while abs(guess**3 - cube) >= epsilon:\n",
    "        if guess**3 < cube:\n",
    "            # look only in upper half search space\n",
    "            low = guess\n",
    "        else:\n",
    "            # look only in lower half search space\n",
    "            high = guess\n",
    "        # next guess is halfway in search space\n",
    "        guess = (high + low)/2.0\n",
    "        num_guesses += 1\n",
    "    return(round(guess,5))\n",
    "\n",
    "help(cube_root)\n",
    "\n",
    "c = cube_root(43347653)\n",
    "c"
   ]
  },
  {
   "cell_type": "code",
   "execution_count": 17,
   "metadata": {},
   "outputs": [],
   "source": [
    "def q_r(x,y):\n",
    "    \"\"\"return quotient and remainder of a division\"\"\"\n",
    "    q = x // y\n",
    "    r = x % y\n",
    "    return(q,r)"
   ]
  },
  {
   "cell_type": "code",
   "execution_count": 32,
   "metadata": {},
   "outputs": [
    {
     "name": "stdout",
     "output_type": "stream",
     "text": [
      "Help on function q_r in module __main__:\n",
      "\n",
      "q_r(x, y)\n",
      "    return quotient and remainder of a division\n",
      "\n"
     ]
    },
    {
     "data": {
      "text/plain": [
       "(20, 1)"
      ]
     },
     "execution_count": 32,
     "metadata": {},
     "output_type": "execute_result"
    }
   ],
   "source": [
    "help(q_r)\n",
    "d = q_r(41,2)\n",
    "d\n",
    "#d[0]\n",
    "#d[1]"
   ]
  },
  {
   "cell_type": "code",
   "execution_count": 37,
   "metadata": {},
   "outputs": [
    {
     "name": "stdout",
     "output_type": "stream",
     "text": [
      "1\n",
      "2\n"
     ]
    }
   ],
   "source": [
    "(quot, rem) = q_r(5,3)\n",
    "print(quot)\n",
    "print(rem)"
   ]
  },
  {
   "cell_type": "code",
   "execution_count": 48,
   "metadata": {},
   "outputs": [
    {
     "name": "stdout",
     "output_type": "stream",
     "text": [
      "From 2008 to 2021 Taylor Swift wrote songs about 5 people!\n"
     ]
    }
   ],
   "source": [
    "def get_data(aTuple):\n",
    "    \"\"\"\n",
    "    aTuple, tuple of tuples (int, string)\n",
    "    Extracts all integers from aTuple and sets \n",
    "    them as elements in a new tuple. \n",
    "    Extracts all unique strings from from aTuple \n",
    "    and sets them as elements in a new tuple.\n",
    "    Returns a tuple of the minimum integer, the\n",
    "    maximum integer, and the number of unique strings\n",
    "    \"\"\"\n",
    "    nums = ()    # empty tuple\n",
    "    words = ()\n",
    "    for t in aTuple:\n",
    "        # concatenating with a singleton tuple\n",
    "        nums = nums + (t[0],)   \n",
    "        # only add words haven't added before\n",
    "        if t[1] not in words:   \n",
    "            words = words + (t[1],)\n",
    "    min_n = min(nums)\n",
    "    max_n = max(nums)\n",
    "    unique_words = len(words)\n",
    "    return (min_n, max_n, unique_words)\n",
    "\n",
    "#test\n",
    "tswift = ((2014,\"Katy\"),\n",
    "          (2014, \"Harry\"),\n",
    "          (2012,\"Jake\"), \n",
    "          (2010,\"Taylor\"), \n",
    "          (2008,\"Joe\"),\n",
    "          (2021,\"Joe\"))    \n",
    "(min_year, max_year, num_people) = get_data(tswift)\n",
    "\n",
    "print(\"From\", min_year, \"to\", max_year,\n",
    "      \"Taylor Swift wrote songs about\", \n",
    "      num_people, \"people!\")"
   ]
  },
  {
   "cell_type": "markdown",
   "metadata": {},
   "source": [
    "## Basic Types - Lists"
   ]
  },
  {
   "cell_type": "code",
   "execution_count": 53,
   "metadata": {},
   "outputs": [
    {
     "name": "stdout",
     "output_type": "stream",
     "text": [
      "4\n",
      "2\n"
     ]
    }
   ],
   "source": [
    "a_list = [2, 'a', 4, [1,2]]\n",
    "print(len(a_list))\n",
    "print(len(a_list[3]))"
   ]
  },
  {
   "cell_type": "code",
   "execution_count": 61,
   "metadata": {},
   "outputs": [
    {
     "name": "stdout",
     "output_type": "stream",
     "text": [
      "[2, 'a', 4, [1, 2]]\n",
      "[2, 'a', 4, 1]\n"
     ]
    }
   ],
   "source": [
    "#lists are mutable, tuples are not\n",
    "a_list = [2, 'a', 4, [1,2]]\n",
    "print(a_list)\n",
    "a_list[3] = 1\n",
    "print(a_list)"
   ]
  },
  {
   "cell_type": "code",
   "execution_count": 64,
   "metadata": {},
   "outputs": [
    {
     "name": "stdout",
     "output_type": "stream",
     "text": [
      "[2, 1, 3, 5]\n"
     ]
    }
   ],
   "source": [
    "#list append method adds elements in the end of lists\n",
    "L = [2,1,3]\n",
    "L.append(5)\n",
    "print(L)"
   ]
  },
  {
   "cell_type": "code",
   "execution_count": 47,
   "metadata": {},
   "outputs": [
    {
     "name": "stdout",
     "output_type": "stream",
     "text": [
      "10\n",
      "10\n"
     ]
    }
   ],
   "source": [
    "#########################\n",
    "## EXAMPLE: sum of elements in a list\n",
    "#########################\n",
    "\n",
    "def sum_elem_method1(L):\n",
    "  total = 0 \n",
    "  for i in range(len(L)): \n",
    "      total += L[i] \n",
    "  return total\n",
    "\n",
    "# you can iterate directly over lists\n",
    "def sum_elem_method2(L):\n",
    "    total = 0 \n",
    "    for i in L: \n",
    "        total += i \n",
    "    return total\n",
    "  \n",
    "print(sum_elem_method1([1,2,3,4]))\n",
    "print(sum_elem_method2([1,2,3,4]))"
   ]
  },
  {
   "cell_type": "code",
   "execution_count": 74,
   "metadata": {},
   "outputs": [
    {
     "name": "stdout",
     "output_type": "stream",
     "text": [
      "[2, 1, 3, 4, 5, 6]\n",
      "[2, 1, 3, 0, 6]\n"
     ]
    }
   ],
   "source": [
    "#########################\n",
    "## EXAMPLE: various list operations\n",
    "## put print(L) at different locations to see how it gets mutated\n",
    "#########################\n",
    "L1 = [2,1,3]\n",
    "L2 = [4,5,6]\n",
    "L3 = L1 + L2\n",
    "L1.extend([0,6])\n",
    "\n",
    "print(L3)\n",
    "print(L1)\n"
   ]
  },
  {
   "cell_type": "code",
   "execution_count": 77,
   "metadata": {},
   "outputs": [
    {
     "name": "stdout",
     "output_type": "stream",
     "text": [
      "[1, 3, 6, 3, 7, 0]\n",
      "[1, 6, 3, 7, 0]\n",
      "[1, 3, 7, 0]\n"
     ]
    }
   ],
   "source": [
    "L = [2,1,3,6,3,7,0]\n",
    "\n",
    "L.remove(2) #remove element with index 2\n",
    "print(L)\n",
    "\n",
    "L.remove(3)\n",
    "print(L)\n",
    "\n",
    "del(L[1])\n",
    "print(L)"
   ]
  },
  {
   "cell_type": "code",
   "execution_count": 79,
   "metadata": {},
   "outputs": [
    {
     "name": "stdout",
     "output_type": "stream",
     "text": [
      "['I', '<', '3', ' ', 'c', 's']\n",
      "['I', '3 cs']\n",
      "abc\n",
      "a_b_c\n"
     ]
    }
   ],
   "source": [
    "s = \"I<3 cs\"\n",
    "print(list(s))\n",
    "print(s.split('<'))\n",
    "L = ['a', 'b', 'c']\n",
    "print(''.join(L))\n",
    "print('_'.join(L))"
   ]
  },
  {
   "cell_type": "code",
   "execution_count": 99,
   "metadata": {},
   "outputs": [
    {
     "name": "stdout",
     "output_type": "stream",
     "text": [
      "[0, 3, 6, 9]\n",
      "[9, 6, 3, 0]\n"
     ]
    }
   ],
   "source": [
    "L=[9,6,0,3]\n",
    "print(sorted(L))\n",
    "\n",
    "L.sort()\n",
    "L.reverse()\n",
    "print(L)\n"
   ]
  },
  {
   "cell_type": "code",
   "execution_count": 101,
   "metadata": {},
   "outputs": [
    {
     "name": "stdout",
     "output_type": "stream",
     "text": [
      "1\n",
      "1\n",
      "['red', 'yellow', 'orange', 'pink']\n",
      "['red', 'yellow', 'orange', 'pink']\n"
     ]
    }
   ],
   "source": [
    "# lists are mutable, so if you use alias, be aware of that.\n",
    "# changing the second object, you change the first as well\n",
    "#########################\n",
    "## EXAMPLE: aliasing\n",
    "#########################\n",
    "a = 1\n",
    "b = a\n",
    "print(a)\n",
    "print(b)\n",
    "\n",
    "warm = ['red', 'yellow', 'orange']\n",
    "hot = warm\n",
    "hot.append('pink')\n",
    "print(hot)\n",
    "print(warm)"
   ]
  },
  {
   "cell_type": "code",
   "execution_count": 105,
   "metadata": {},
   "outputs": [
    {
     "name": "stdout",
     "output_type": "stream",
     "text": [
      "['blue', 'green', 'grey', 'black']\n",
      "['blue', 'green', 'grey']\n"
     ]
    }
   ],
   "source": [
    "# for solve the problem of changing a object that have an alias\n",
    "# you can use cloning\n",
    "\n",
    "#########################\n",
    "## EXAMPLE: cloning\n",
    "#########################\n",
    "cool = ['blue', 'green', 'grey']\n",
    "chill = cool[:]\n",
    "chill.append('black')\n",
    "print(chill)\n",
    "print(cool)"
   ]
  },
  {
   "cell_type": "code",
   "execution_count": 109,
   "metadata": {},
   "outputs": [
    {
     "name": "stdout",
     "output_type": "stream",
     "text": [
      "['orange', 'red', 'yellow']\n",
      "None\n",
      "['grey', 'green', 'blue']\n",
      "['blue', 'green', 'grey']\n"
     ]
    }
   ],
   "source": [
    "# .sort mutate the list itself\n",
    "# you can not asign to another object\n",
    "########################\n",
    "## EXAMPLE: sorting with/without mutation\n",
    "#########################\n",
    "warm = ['red', 'yellow', 'orange']\n",
    "sortedwarm = warm.sort()\n",
    "print(warm)\n",
    "print(sortedwarm)\n",
    "\n",
    "# sorted() doesnt mutate the list itself\n",
    "# you can asign to another object\n",
    "\n",
    "\n",
    "cool = ['grey', 'green', 'blue']\n",
    "sortedcool = sorted(cool)\n",
    "print(cool)\n",
    "print(sortedcool)"
   ]
  },
  {
   "cell_type": "code",
   "execution_count": 111,
   "metadata": {},
   "outputs": [
    {
     "name": "stdout",
     "output_type": "stream",
     "text": [
      "[2, 3, 4] [1, 2, 5, 6]\n",
      "[3, 4] [1, 2, 5, 6]\n"
     ]
    }
   ],
   "source": [
    "#you can iterate with lists\n",
    "# but see that you have to copy the list, so you dont change itself\n",
    "\n",
    "###############################\n",
    "## EXAMPLE: mutating a list while iterating over it\n",
    "###############################\n",
    "\n",
    "def remove_dups(L1, L2):\n",
    "    for e in L1:\n",
    "        if e in L2:\n",
    "            L1.remove(e)\n",
    "      \n",
    "def remove_dups_new(L1, L2):\n",
    "    L1_copy = L1[:]\n",
    "    for e in L1_copy:\n",
    "        if e in L2:\n",
    "            L1.remove(e)\n",
    "\n",
    "L1 = [1, 2, 3, 4]\n",
    "L2 = [1, 2, 5, 6]\n",
    "remove_dups(L1, L2)\n",
    "print(L1, L2)\n",
    "\n",
    "L1 = [1, 2, 3, 4]\n",
    "L2 = [1, 2, 5, 6]\n",
    "remove_dups_new(L1, L2)\n",
    "print(L1, L2)"
   ]
  },
  {
   "cell_type": "markdown",
   "metadata": {},
   "source": [
    "## Recursive functions"
   ]
  },
  {
   "cell_type": "code",
   "execution_count": 120,
   "metadata": {},
   "outputs": [
    {
     "name": "stdout",
     "output_type": "stream",
     "text": [
      "12\n",
      "12\n"
     ]
    }
   ],
   "source": [
    "# recursive \n",
    "# call a function inside itself\n",
    "\n",
    "# a function to multiply 2 numbers using only addition\n",
    "\n",
    "# no recursive version\n",
    "# a * b = a + a... (b times)\n",
    "\n",
    "def mult_iter(a, b):\n",
    "    result = 0\n",
    "    while b > 0:\n",
    "        result += a\n",
    "        b -= 1\n",
    "    return result\n",
    "\n",
    "print(mult_iter(3, 4))\n",
    "\n",
    "# recursive version\n",
    "# a * b = a + a * (b-1)\n",
    "\n",
    "def mult_rec(a, b):\n",
    "    if b == 1:\n",
    "        return a\n",
    "    else:\n",
    "        return a + mult_rec(a, b - 1)\n",
    "\n",
    "print(mult_rec(3,4))"
   ]
  },
  {
   "cell_type": "code",
   "execution_count": 137,
   "metadata": {},
   "outputs": [
    {
     "name": "stdout",
     "output_type": "stream",
     "text": [
      "120\n",
      "120\n"
     ]
    }
   ],
   "source": [
    "# factorial iteration way\n",
    "\n",
    "def factorial_iter(n):\n",
    "    prod = 1\n",
    "    for i in range(1, n + 1):\n",
    "        prod *= i\n",
    "    return prod\n",
    "\n",
    "print(factorial_iter(5))\n",
    "\n",
    "# factorial recursive way\n",
    "# n! = n * n-1!\n",
    "\n",
    "def factorial_rec(n):\n",
    "    if n == 1:\n",
    "        return 1\n",
    "    else:\n",
    "        return n * factorial_rec(n - 1)\n",
    "\n",
    "print(factorial_rec(5))"
   ]
  },
  {
   "cell_type": "code",
   "execution_count": 144,
   "metadata": {},
   "outputs": [
    {
     "name": "stdout",
     "output_type": "stream",
     "text": [
      "move from P1 to P2\n",
      "move from P1 to P3\n",
      "move from P2 to P3\n",
      "move from P1 to P2\n",
      "move from P3 to P1\n",
      "move from P3 to P2\n",
      "move from P1 to P2\n",
      "None\n"
     ]
    }
   ],
   "source": [
    "# use of recursive code to solve this problem\n",
    "#####################################\n",
    "# EXAMPLE:  Towers of Hanoi\n",
    "#####################################\n",
    "# fr = from\n",
    "\n",
    "def printMove(fr, to):\n",
    "    print('move from ' + str(fr) + ' to ' + str(to))\n",
    "\n",
    "def Towers(n, fr, to, spare):\n",
    "    if n == 1:\n",
    "        printMove(fr, to)\n",
    "    else:\n",
    "        Towers(n-1, fr, spare, to)\n",
    "        Towers(1, fr, to, spare)\n",
    "        Towers(n-1, spare, to, fr)\n",
    "\n",
    "print(Towers(3, 'P1', 'P2', 'P3'))"
   ]
  },
  {
   "cell_type": "code",
   "execution_count": 215,
   "metadata": {},
   "outputs": [
    {
     "data": {
      "text/plain": [
       "89"
      ]
     },
     "execution_count": 215,
     "metadata": {},
     "output_type": "execute_result"
    }
   ],
   "source": [
    "#####################################\n",
    "# EXAMPLE:  fibonacci\n",
    "#####################################\n",
    "\n",
    "def fib(x):\n",
    "    \"\"\"assumes x an int >= 0\n",
    "       returns Fibonacci of x\"\"\"\n",
    "    if x == 0 or x == 1:\n",
    "        return 1\n",
    "    else:\n",
    "        return fib(x-1) + fib(x-2)\n",
    "    \n",
    "fib(10)"
   ]
  },
  {
   "cell_type": "code",
   "execution_count": 161,
   "metadata": {},
   "outputs": [
    {
     "name": "stdout",
     "output_type": "stream",
     "text": [
      "True\n",
      "True\n",
      "False\n",
      "True\n"
     ]
    }
   ],
   "source": [
    "#####################################\n",
    "# EXAMPLE:  testing for palindromes\n",
    "#####################################\n",
    "        \n",
    "def isPalindrome(s):\n",
    "    def toChars(s):\n",
    "        s = s.lower()\n",
    "        ans = ''\n",
    "        for c in s:\n",
    "            if c in 'abcdefghijklmnopqrstuvwxyz':\n",
    "                ans = ans + c\n",
    "        return ans\n",
    "    def isPal(s):\n",
    "        if len(s) <= 1:\n",
    "            return True\n",
    "        else:\n",
    "            return s[0] == s[-1] and isPal(s[1:-1])\n",
    "    return isPal(toChars(s))\n",
    "\n",
    "print(isPalindrome('eve'))\n",
    "print(isPalindrome('Able was I, ere I saw Elba'))\n",
    "print(isPalindrome('Is this a palindrome'))\n",
    "print(isPalindrome('Hannah'))"
   ]
  },
  {
   "cell_type": "markdown",
   "metadata": {},
   "source": [
    "## Basic Types - Dictionaries"
   ]
  },
  {
   "cell_type": "code",
   "execution_count": 175,
   "metadata": {},
   "outputs": [
    {
     "name": "stdout",
     "output_type": "stream",
     "text": [
      "Davi 9.7 Python\n"
     ]
    }
   ],
   "source": [
    "# how to storage information without dictonaries\n",
    "name_list = ['Ana', 'Davi', 'Lara']\n",
    "grade_list = [9.6, 9.7, 10]\n",
    "course_list = ['Letras', 'Python', 'Psicologia']\n",
    "\n",
    "def get_grade(student, name_list, grade_list, course_list):\n",
    "    i = name_list.index(student)\n",
    "    grade = grade_list[i]\n",
    "    course = course_list[i]\n",
    "    return (grade, course)\n",
    "\n",
    "(grade_davi, course_davi) = get_grade('Davi',name_list,\n",
    "                                      grade_list,course_list)\n",
    "    \n",
    "print('Davi', grade_davi, course_davi)    "
   ]
  },
  {
   "cell_type": "code",
   "execution_count": 190,
   "metadata": {},
   "outputs": [
    {
     "name": "stdout",
     "output_type": "stream",
     "text": [
      "9.7\n",
      "{'Ana': 9.6, 'Davi': 9.7, 'Lara': 10, 'Mario': '9.8'}\n",
      "True\n",
      "{'Davi': 9.7, 'Lara': 10, 'Mario': '9.8'}\n"
     ]
    }
   ],
   "source": [
    "# how to storage information WITH dictonaries\n",
    "grades = {'Ana': 9.6, 'Davi': 9.7, 'Lara': 10}\n",
    "print(grade['Davi'])\n",
    "\n",
    "#adds to dictionary\n",
    "grades['Mario'] = '9.8' \n",
    "print(grades)\n",
    "\n",
    "#you can test if key in dictionary\n",
    "print('Ana' in grades) \n",
    "\n",
    "#delete keys and associated value\n",
    "del(grades['Ana']) \n",
    "print(grades)\n",
    "\n",
    "#remember keys are unique and immutable!!!"
   ]
  },
  {
   "cell_type": "code",
   "execution_count": 51,
   "metadata": {},
   "outputs": [
    {
     "name": "stdout",
     "output_type": "stream",
     "text": [
      "\n",
      " {'she': 20, 'loves': 13, 'you': 36, 'yeah': 28, 'think': 2, \"you've\": 1, 'lost': 2, 'your': 1, 'love': 5, 'well': 1, 'i': 2, 'saw': 1, 'her': 4, 'yesterday-yi-yay': 1, \"it's\": 3, \"she's\": 1, 'thinking': 1, 'of': 1, 'and': 8, 'told': 1, 'me': 1, 'what': 1, 'to': 3, 'say-yi-yay': 1, 'says': 3, 'know': 11, 'that': 7, \"can't\": 3, 'be': 10, 'bad': 3, 'yes': 2, 'should': 7, 'glad': 7, 'said': 1, 'hurt': 2, 'so': 1, 'almost': 1, 'mind': 1, 'now': 1, 'knows': 1, \"you're\": 1, 'not': 1, 'the': 1, 'hurting': 1, 'kind': 1, 'oo': 2, 'with': 4, 'a': 4, 'like': 4, 'up': 1, 'only': 1, 'fair': 1, 'pride': 1, 'can': 1, 'too': 1, 'pologize': 1, 'Because': 1, 'Yes': 1}\n",
      "\n",
      " (['you'], 36)\n",
      "\n",
      " item 0 dict ==> ['you']\n",
      "\n",
      " item 1 dict ==> 36\n",
      "\n",
      " [(['you'], 36), (['yeah'], 28), (['she'], 20)]\n"
     ]
    }
   ],
   "source": [
    "#####################################\n",
    "# EXAMPLE: using dictionaries\n",
    "#          counting frequencies of words in song lyrics\n",
    "#####################################\n",
    "\n",
    "def lyrics_to_frequencies(lyrics):\n",
    "    myDict = {}\n",
    "    for word in lyrics:\n",
    "        if word in myDict:\n",
    "            myDict[word] += 1\n",
    "        else:\n",
    "            myDict[word] = 1\n",
    "    return myDict\n",
    "    \n",
    "    \n",
    "she_loves_you = ['she', 'loves', 'you', 'yeah', 'yeah', \n",
    "'yeah','she', 'loves', 'you', 'yeah', 'yeah', 'yeah',\n",
    "'she', 'loves', 'you', 'yeah', 'yeah', 'yeah',\n",
    "\n",
    "'you', 'think', \"you've\", 'lost', 'your', 'love',\n",
    "'well', 'i', 'saw', 'her', 'yesterday-yi-yay',\n",
    "\"it's\", 'you', \"she's\", 'thinking', 'of',\n",
    "'and', 'she', 'told', 'me', 'what', 'to', 'say-yi-yay',\n",
    "\n",
    "'she', 'says', 'she', 'loves', 'you',\n",
    "'and', 'you', 'know', 'that', \"can't\", 'be', 'bad',\n",
    "'yes', 'she', 'loves', 'you',\n",
    "'and', 'you', 'know', 'you', 'should', 'be', 'glad',\n",
    "\n",
    "'she', 'said', 'you', 'hurt', 'her', 'so',\n",
    "'she', 'almost', 'lost', 'her', 'mind',\n",
    "'and', 'now', 'she', 'says', 'she', 'knows',\n",
    "\"you're\", 'not', 'the', 'hurting', 'kind',\n",
    "\n",
    "'she', 'says', 'she', 'loves', 'you',\n",
    "'and', 'you', 'know', 'that', \"can't\", 'be', 'bad',\n",
    "'yes', 'she', 'loves', 'you',\n",
    "'and', 'you', 'know', 'you', 'should', 'be', 'glad',\n",
    "\n",
    "'oo', 'she', 'loves', 'you', 'yeah', 'yeah', 'yeah',\n",
    "'she', 'loves', 'you', 'yeah', 'yeah', 'yeah',\n",
    "'with', 'a', 'love', 'like', 'that',\n",
    "'you', 'know', 'you', 'should', 'be', 'glad',\n",
    "\n",
    "'you', 'know', \"it's\", 'up', 'to', 'you',\n",
    "'i', 'think', \"it's\", 'only', 'fair',\n",
    "'pride', 'can', 'hurt', 'you', 'too',\n",
    "'pologize', 'to', 'her',\n",
    "\n",
    "'Because', 'she', 'loves', 'you',\n",
    "'and', 'you', 'know', 'that', \"can't\", 'be', 'bad',\n",
    "'Yes', 'she', 'loves', 'you',\n",
    "'and', 'you', 'know', 'you', 'should', 'be', 'glad',\n",
    "\n",
    "'oo', 'she', 'loves', 'you', 'yeah', 'yeah', 'yeah',\n",
    "'she', 'loves', 'you', 'yeah', 'yeah', 'yeah',\n",
    "'with', 'a', 'love', 'like', 'that',\n",
    "'you', 'know', 'you', 'should', 'be', 'glad',\n",
    "'with', 'a', 'love', 'like', 'that',\n",
    "'you', 'know', 'you', 'should', 'be', 'glad',\n",
    "'with', 'a', 'love', 'like', 'that',\n",
    "'you', 'know', 'you', 'should', 'be', 'glad',\n",
    "'yeah', 'yeah', 'yeah',\n",
    "'yeah', 'yeah', 'yeah', 'yeah'\n",
    "]\n",
    "\n",
    "she_loves_you_fq = lyrics_to_frequencies(she_loves_you)\n",
    "print('\\n', she_loves_you_fq)\n",
    "\n",
    "def most_common_word(freqs):\n",
    "    values = freqs.values()\n",
    "    best = max(freqs.values())\n",
    "    words = []\n",
    "    for k in freqs:\n",
    "        if freqs[k] == best:\n",
    "            words.append(k)\n",
    "    return (words, best)\n",
    "\n",
    "print('\\n', most_common_word(she_loves_you_fq))\n",
    "\n",
    "\n",
    "#The result of most_common_word is a tuple!!!\n",
    "#So you can reference mcq[0] or mcw[1] as shown below:\n",
    "\n",
    "mcw = most_common_word(she_loves_you_fq)\n",
    "print('\\n item 0 dict ==>',mcw[0])\n",
    "\n",
    "mcw = most_common_word(she_loves_you_fq)\n",
    "print('\\n item 1 dict ==>',mcw[1])\n",
    "\n",
    "def words_often(freqs, minTimes):\n",
    "    result = []\n",
    "    done = False\n",
    "    while not done:\n",
    "        #remember: temp is a tuple not dict\n",
    "        temp = most_common_word(freqs) \n",
    "        if temp[1] >= minTimes:\n",
    "            result.append(temp)\n",
    "            for w in temp[0]:\n",
    "                del(freqs[w])  #remove word from dict\n",
    "        else:\n",
    "            done = True\n",
    "    return result\n",
    "\n",
    "print('\\n', words_often(she_loves_you_fq,20))"
   ]
  },
  {
   "cell_type": "markdown",
   "metadata": {},
   "source": [
    "## Optimization - using memoization"
   ]
  },
  {
   "cell_type": "code",
   "execution_count": 226,
   "metadata": {},
   "outputs": [
    {
     "name": "stdout",
     "output_type": "stream",
     "text": [
      "\n",
      "using fib\n",
      "14930352\n",
      "\n",
      "using fib_efficient\n",
      "14930352\n"
     ]
    }
   ],
   "source": [
    "#####################################\n",
    "# EXAMPLE: comparing fibonacci using memoization\n",
    "#####################################\n",
    "\n",
    "\n",
    "def fib(n):\n",
    "    if n == 1:\n",
    "        return 1\n",
    "    elif n == 2:\n",
    "        return 2\n",
    "    else:\n",
    "        return fib(n-1) + fib(n-2)\n",
    "\n",
    "\n",
    "def fib_efficient(n, d):\n",
    "    if n in d:\n",
    "        return d[n]\n",
    "    else:\n",
    "        ans = fib_efficient(n-1, d)+fib_efficient(n-2, d)\n",
    "        d[n] = ans\n",
    "        return ans\n",
    "        \n",
    "d = {1:1, 2:2}\n",
    "argToUse = 35\n",
    "\n",
    "print(\"\")\n",
    "print('using fib')\n",
    "print(fib(argToUse))\n",
    "\n",
    "print(\"\")\n",
    "print('using fib_efficient')\n",
    "print(fib_efficient(argToUse, d))"
   ]
  },
  {
   "cell_type": "code",
   "execution_count": null,
   "metadata": {},
   "outputs": [],
   "source": []
  }
 ],
 "metadata": {
  "kernelspec": {
   "display_name": "Python 3",
   "language": "python",
   "name": "python3"
  },
  "language_info": {
   "codemirror_mode": {
    "name": "ipython",
    "version": 3
   },
   "file_extension": ".py",
   "mimetype": "text/x-python",
   "name": "python",
   "nbconvert_exporter": "python",
   "pygments_lexer": "ipython3",
   "version": "3.7.5"
  }
 },
 "nbformat": 4,
 "nbformat_minor": 2
}
